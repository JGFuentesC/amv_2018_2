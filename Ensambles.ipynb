{
 "cells": [
  {
   "cell_type": "code",
   "execution_count": 13,
   "metadata": {},
   "outputs": [],
   "source": [
    "import numpy as np\n",
    "import pandas as pd\n",
    "import pickle\n",
    "from sklearn.ensemble import AdaBoostClassifier,RandomForestClassifier\n",
    "from xgboost.sklearn import XGBClassifier\n",
    "from sklearn.preprocessing import MinMaxScaler,StandardScaler\n",
    "from sklearn.decomposition import PCA\n",
    "from sklearn.pipeline import make_pipeline\n",
    "from sklearn.metrics import accuracy_score,roc_auc_score\n",
    "from sklearn.model_selection import GridSearchCV,train_test_split,RandomizedSearchCV\n",
    "\n",
    "import warnings\n",
    "\n",
    "warnings.filterwarnings('ignore')\n"
   ]
  },
  {
   "cell_type": "code",
   "execution_count": 14,
   "metadata": {},
   "outputs": [],
   "source": [
    "def metricas(model,Xt,Xv,yt,yv):\n",
    "    print \"ROC train:%.3f | ROC test:%.3f \" %(roc_auc_score(y_true=yt,y_score=model.predict_proba(Xt)[:,1]),roc_auc_score(y_true=yv,y_score=model.predict_proba(Xv)[:,1]))\n",
    "    print \"ACC train:%.3f | ACC test:%.3f \" %(accuracy_score(y_true=yt,y_pred=model.predict(Xt)),accuracy_score(y_true=yv,y_pred=model.predict(Xv)))"
   ]
  },
  {
   "cell_type": "code",
   "execution_count": 15,
   "metadata": {},
   "outputs": [],
   "source": [
    "df = pickle.load(open('churn_con_woe','rb'))"
   ]
  },
  {
   "cell_type": "code",
   "execution_count": 16,
   "metadata": {},
   "outputs": [
    {
     "data": {
      "text/html": [
       "<div>\n",
       "<style scoped>\n",
       "    .dataframe tbody tr th:only-of-type {\n",
       "        vertical-align: middle;\n",
       "    }\n",
       "\n",
       "    .dataframe tbody tr th {\n",
       "        vertical-align: top;\n",
       "    }\n",
       "\n",
       "    .dataframe thead th {\n",
       "        text-align: right;\n",
       "    }\n",
       "</style>\n",
       "<table border=\"1\" class=\"dataframe\">\n",
       "  <thead>\n",
       "    <tr style=\"text-align: right;\">\n",
       "      <th></th>\n",
       "      <th>V_ACCT_LGHT</th>\n",
       "      <th>C_IP</th>\n",
       "      <th>C_VMP</th>\n",
       "      <th>V_N_VM_MESS</th>\n",
       "      <th>V_T_DAY_CHG</th>\n",
       "      <th>V_T_EVE_CALLS</th>\n",
       "      <th>V_T_EVE_CHG</th>\n",
       "      <th>V_T_NIG_CALLS</th>\n",
       "      <th>V_T_NIG_CHG</th>\n",
       "      <th>V_T_INT_CALLS</th>\n",
       "      <th>...</th>\n",
       "      <th>W_V_ACCT_LGHT</th>\n",
       "      <th>W_V_N_VM_MESS</th>\n",
       "      <th>W_V_T_DAY_CHG</th>\n",
       "      <th>W_V_T_EVE_CALLS</th>\n",
       "      <th>W_V_T_EVE_CHG</th>\n",
       "      <th>W_V_T_NIG_CALLS</th>\n",
       "      <th>W_V_T_NIG_CHG</th>\n",
       "      <th>W_V_T_INT_CALLS</th>\n",
       "      <th>W_V_T_INT_CHG</th>\n",
       "      <th>W_V_CS_CALLS</th>\n",
       "    </tr>\n",
       "  </thead>\n",
       "  <tbody>\n",
       "    <tr>\n",
       "      <th>0</th>\n",
       "      <td>128</td>\n",
       "      <td>No</td>\n",
       "      <td>Yes</td>\n",
       "      <td>25</td>\n",
       "      <td>45.07</td>\n",
       "      <td>99</td>\n",
       "      <td>16.78</td>\n",
       "      <td>91</td>\n",
       "      <td>11.01</td>\n",
       "      <td>3</td>\n",
       "      <td>...</td>\n",
       "      <td>0.061033</td>\n",
       "      <td>1.219037</td>\n",
       "      <td>-1.864202</td>\n",
       "      <td>0.068283</td>\n",
       "      <td>0.065696</td>\n",
       "      <td>-0.089148</td>\n",
       "      <td>-0.05179</td>\n",
       "      <td>-0.29035</td>\n",
       "      <td>0.007263</td>\n",
       "      <td>0.295956</td>\n",
       "    </tr>\n",
       "    <tr>\n",
       "      <th>1</th>\n",
       "      <td>156</td>\n",
       "      <td>No</td>\n",
       "      <td>No</td>\n",
       "      <td>0</td>\n",
       "      <td>29.67</td>\n",
       "      <td>116</td>\n",
       "      <td>16.78</td>\n",
       "      <td>86</td>\n",
       "      <td>10.73</td>\n",
       "      <td>2</td>\n",
       "      <td>...</td>\n",
       "      <td>0.061033</td>\n",
       "      <td>-0.147174</td>\n",
       "      <td>0.561314</td>\n",
       "      <td>-0.053201</td>\n",
       "      <td>0.065696</td>\n",
       "      <td>-0.089148</td>\n",
       "      <td>-0.05179</td>\n",
       "      <td>-0.29035</td>\n",
       "      <td>0.007263</td>\n",
       "      <td>0.295956</td>\n",
       "    </tr>\n",
       "    <tr>\n",
       "      <th>2</th>\n",
       "      <td>57</td>\n",
       "      <td>No</td>\n",
       "      <td>No</td>\n",
       "      <td>0</td>\n",
       "      <td>14.60</td>\n",
       "      <td>127</td>\n",
       "      <td>16.48</td>\n",
       "      <td>93</td>\n",
       "      <td>10.42</td>\n",
       "      <td>2</td>\n",
       "      <td>...</td>\n",
       "      <td>0.053118</td>\n",
       "      <td>-0.147174</td>\n",
       "      <td>0.178109</td>\n",
       "      <td>-0.053201</td>\n",
       "      <td>0.065696</td>\n",
       "      <td>-0.089148</td>\n",
       "      <td>-0.05179</td>\n",
       "      <td>-0.29035</td>\n",
       "      <td>0.007263</td>\n",
       "      <td>0.295956</td>\n",
       "    </tr>\n",
       "    <tr>\n",
       "      <th>3</th>\n",
       "      <td>58</td>\n",
       "      <td>No</td>\n",
       "      <td>Yes</td>\n",
       "      <td>20</td>\n",
       "      <td>33.07</td>\n",
       "      <td>89</td>\n",
       "      <td>18.16</td>\n",
       "      <td>92</td>\n",
       "      <td>10.65</td>\n",
       "      <td>2</td>\n",
       "      <td>...</td>\n",
       "      <td>0.053118</td>\n",
       "      <td>1.219037</td>\n",
       "      <td>0.561314</td>\n",
       "      <td>0.031576</td>\n",
       "      <td>0.065696</td>\n",
       "      <td>-0.089148</td>\n",
       "      <td>-0.05179</td>\n",
       "      <td>-0.29035</td>\n",
       "      <td>0.007263</td>\n",
       "      <td>0.295956</td>\n",
       "    </tr>\n",
       "    <tr>\n",
       "      <th>4</th>\n",
       "      <td>149</td>\n",
       "      <td>No</td>\n",
       "      <td>No</td>\n",
       "      <td>0</td>\n",
       "      <td>31.89</td>\n",
       "      <td>81</td>\n",
       "      <td>17.12</td>\n",
       "      <td>79</td>\n",
       "      <td>11.89</td>\n",
       "      <td>1</td>\n",
       "      <td>...</td>\n",
       "      <td>0.061033</td>\n",
       "      <td>-0.147174</td>\n",
       "      <td>0.561314</td>\n",
       "      <td>0.031576</td>\n",
       "      <td>0.065696</td>\n",
       "      <td>-0.089148</td>\n",
       "      <td>-0.05179</td>\n",
       "      <td>-0.29035</td>\n",
       "      <td>0.007263</td>\n",
       "      <td>0.295956</td>\n",
       "    </tr>\n",
       "  </tbody>\n",
       "</table>\n",
       "<p>5 rows × 26 columns</p>\n",
       "</div>"
      ],
      "text/plain": [
       "   V_ACCT_LGHT C_IP C_VMP  V_N_VM_MESS  V_T_DAY_CHG  V_T_EVE_CALLS  \\\n",
       "0          128   No   Yes           25        45.07             99   \n",
       "1          156   No    No            0        29.67            116   \n",
       "2           57   No    No            0        14.60            127   \n",
       "3           58   No   Yes           20        33.07             89   \n",
       "4          149   No    No            0        31.89             81   \n",
       "\n",
       "   V_T_EVE_CHG  V_T_NIG_CALLS  V_T_NIG_CHG  V_T_INT_CALLS      ...       \\\n",
       "0        16.78             91        11.01              3      ...        \n",
       "1        16.78             86        10.73              2      ...        \n",
       "2        16.48             93        10.42              2      ...        \n",
       "3        18.16             92        10.65              2      ...        \n",
       "4        17.12             79        11.89              1      ...        \n",
       "\n",
       "   W_V_ACCT_LGHT  W_V_N_VM_MESS  W_V_T_DAY_CHG  W_V_T_EVE_CALLS  \\\n",
       "0       0.061033       1.219037      -1.864202         0.068283   \n",
       "1       0.061033      -0.147174       0.561314        -0.053201   \n",
       "2       0.053118      -0.147174       0.178109        -0.053201   \n",
       "3       0.053118       1.219037       0.561314         0.031576   \n",
       "4       0.061033      -0.147174       0.561314         0.031576   \n",
       "\n",
       "   W_V_T_EVE_CHG  W_V_T_NIG_CALLS  W_V_T_NIG_CHG  W_V_T_INT_CALLS  \\\n",
       "0       0.065696        -0.089148       -0.05179         -0.29035   \n",
       "1       0.065696        -0.089148       -0.05179         -0.29035   \n",
       "2       0.065696        -0.089148       -0.05179         -0.29035   \n",
       "3       0.065696        -0.089148       -0.05179         -0.29035   \n",
       "4       0.065696        -0.089148       -0.05179         -0.29035   \n",
       "\n",
       "   W_V_T_INT_CHG  W_V_CS_CALLS  \n",
       "0       0.007263      0.295956  \n",
       "1       0.007263      0.295956  \n",
       "2       0.007263      0.295956  \n",
       "3       0.007263      0.295956  \n",
       "4       0.007263      0.295956  \n",
       "\n",
       "[5 rows x 26 columns]"
      ]
     },
     "execution_count": 16,
     "metadata": {},
     "output_type": "execute_result"
    }
   ],
   "source": [
    "df.head()"
   ]
  },
  {
   "cell_type": "code",
   "execution_count": 17,
   "metadata": {},
   "outputs": [],
   "source": [
    "X = df[[v for v in df.columns if v[:2]=='V_']+[v for v in df.columns if v[:4]=='W_C_']].copy()\n",
    "y = df['TARGET'].copy()"
   ]
  },
  {
   "cell_type": "code",
   "execution_count": 18,
   "metadata": {},
   "outputs": [],
   "source": [
    "Xt,Xv,yt,yv = train_test_split(X,y,train_size=0.7)"
   ]
  },
  {
   "cell_type": "code",
   "execution_count": 19,
   "metadata": {},
   "outputs": [],
   "source": [
    "modelos = [RandomForestClassifier(),AdaBoostClassifier(),XGBClassifier()]"
   ]
  },
  {
   "cell_type": "code",
   "execution_count": 20,
   "metadata": {},
   "outputs": [
    {
     "name": "stdout",
     "output_type": "stream",
     "text": [
      "ROC train:1.000 | ROC test:0.959 \n",
      "ACC train:0.995 | ACC test:0.952 \n",
      "ROC train:0.909 | ROC test:0.848 \n",
      "ACC train:0.887 | ACC test:0.895 \n",
      "ROC train:0.964 | ROC test:0.957 \n",
      "ACC train:0.964 | ACC test:0.966 \n"
     ]
    }
   ],
   "source": [
    "for model in modelos:\n",
    "    model.fit(Xt,yt)\n",
    "    metricas(model,Xt,Xv,yt,yv)"
   ]
  },
  {
   "cell_type": "code",
   "execution_count": 21,
   "metadata": {},
   "outputs": [],
   "source": [
    "param_grid = dict ( max_depth=range(2,10),\n",
    "       n_estimators=range(10,250,10),\n",
    "      booster = ['gbtree', 'gblinear', 'dart'],\n",
    "      gamma = np.arange(0.1,1,0.1)\n",
    "     )"
   ]
  },
  {
   "cell_type": "code",
   "execution_count": 22,
   "metadata": {},
   "outputs": [],
   "source": [
    "grid = RandomizedSearchCV(cv=3,\n",
    "                          error_score='accuracy',\n",
    "                          estimator=modelos[-1],\n",
    "                          n_iter=300,\n",
    "                          n_jobs=-1,\n",
    "                          param_distributions=param_grid,verbose=True)"
   ]
  },
  {
   "cell_type": "code",
   "execution_count": 23,
   "metadata": {},
   "outputs": [
    {
     "name": "stdout",
     "output_type": "stream",
     "text": [
      "Fitting 3 folds for each of 300 candidates, totalling 900 fits\n"
     ]
    },
    {
     "name": "stderr",
     "output_type": "stream",
     "text": [
      "[Parallel(n_jobs=-1)]: Done  77 tasks      | elapsed:    6.9s\n",
      "[Parallel(n_jobs=-1)]: Done 230 tasks      | elapsed:   32.9s\n",
      "[Parallel(n_jobs=-1)]: Done 480 tasks      | elapsed:  1.4min\n",
      "[Parallel(n_jobs=-1)]: Done 838 tasks      | elapsed:  2.2min\n",
      "[Parallel(n_jobs=-1)]: Done 900 out of 900 | elapsed:  2.4min finished\n"
     ]
    },
    {
     "data": {
      "text/plain": [
       "RandomizedSearchCV(cv=3, error_score='accuracy',\n",
       "          estimator=XGBClassifier(base_score=0.5, booster='gbtree', colsample_bylevel=1,\n",
       "       colsample_bytree=1, gamma=0, learning_rate=0.1, max_delta_step=0,\n",
       "       max_depth=3, min_child_weight=1, missing=None, n_estimators=100,\n",
       "       n_jobs=1, nthread=None, objective='binary:logistic', random_state=0,\n",
       "       reg_alpha=0, reg_lambda=1, scale_pos_weight=1, seed=None,\n",
       "       silent=True, subsample=1),\n",
       "          fit_params=None, iid=True, n_iter=300, n_jobs=-1,\n",
       "          param_distributions={'n_estimators': [10, 20, 30, 40, 50, 60, 70, 80, 90, 100, 110, 120, 130, 140, 150, 160, 170, 180, 190, 200, 210, 220, 230, 240], 'max_depth': [2, 3, 4, 5, 6, 7, 8, 9], 'gamma': array([0.1, 0.2, 0.3, 0.4, 0.5, 0.6, 0.7, 0.8, 0.9]), 'booster': ['gbtree', 'gblinear', 'dart']},\n",
       "          pre_dispatch='2*n_jobs', random_state=None, refit=True,\n",
       "          return_train_score='warn', scoring=None, verbose=True)"
      ]
     },
     "execution_count": 23,
     "metadata": {},
     "output_type": "execute_result"
    }
   ],
   "source": [
    "grid.fit(Xt,yt)"
   ]
  },
  {
   "cell_type": "code",
   "execution_count": 24,
   "metadata": {},
   "outputs": [
    {
     "name": "stdout",
     "output_type": "stream",
     "text": [
      "ROC train:1.000 | ROC test:0.954 \n",
      "ACC train:0.999 | ACC test:0.966 \n"
     ]
    }
   ],
   "source": [
    "metricas(grid.best_estimator_,Xt,Xv,yt,yv)"
   ]
  },
  {
   "cell_type": "code",
   "execution_count": 25,
   "metadata": {},
   "outputs": [
    {
     "data": {
      "text/plain": [
       "XGBClassifier(base_score=0.5, booster='gbtree', colsample_bylevel=1,\n",
       "       colsample_bytree=1, gamma=0.1, learning_rate=0.1, max_delta_step=0,\n",
       "       max_depth=9, min_child_weight=1, missing=None, n_estimators=100,\n",
       "       n_jobs=1, nthread=None, objective='binary:logistic', random_state=0,\n",
       "       reg_alpha=0, reg_lambda=1, scale_pos_weight=1, seed=None,\n",
       "       silent=True, subsample=1)"
      ]
     },
     "execution_count": 25,
     "metadata": {},
     "output_type": "execute_result"
    }
   ],
   "source": [
    "grid.best_estimator_"
   ]
  },
  {
   "cell_type": "code",
   "execution_count": null,
   "metadata": {},
   "outputs": [],
   "source": []
  }
 ],
 "metadata": {
  "kernelspec": {
   "display_name": "Python 2",
   "language": "python",
   "name": "python2"
  },
  "language_info": {
   "codemirror_mode": {
    "name": "ipython",
    "version": 2
   },
   "file_extension": ".py",
   "mimetype": "text/x-python",
   "name": "python",
   "nbconvert_exporter": "python",
   "pygments_lexer": "ipython2",
   "version": "2.7.14"
  }
 },
 "nbformat": 4,
 "nbformat_minor": 2
}
