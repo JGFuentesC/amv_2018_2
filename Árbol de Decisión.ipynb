{
 "cells": [
  {
   "cell_type": "code",
   "execution_count": 1,
   "metadata": {},
   "outputs": [],
   "source": [
    "import numpy as np\n",
    "import pandas as pd\n",
    "import pickle\n",
    "from sklearn.tree import DecisionTreeClassifier\n",
    "from sklearn.metrics import accuracy_score,roc_auc_score\n",
    "from sklearn.model_selection import GridSearchCV,train_test_split"
   ]
  },
  {
   "cell_type": "code",
   "execution_count": 2,
   "metadata": {},
   "outputs": [],
   "source": [
    "def metricas(model,Xt,Xv,yt,yv):\n",
    "    print \"ROC train:%.3f | ROC test:%.3f \" %(roc_auc_score(y_true=yt,y_score=model.predict_proba(Xt)[:,1]),roc_auc_score(y_true=yv,y_score=model.predict_proba(Xv)[:,1]))\n",
    "    print \"ACC train:%.3f | ACC test:%.3f \" %(accuracy_score(y_true=yt,y_pred=model.predict(Xt)),accuracy_score(y_true=yv,y_pred=model.predict(Xv)))"
   ]
  },
  {
   "cell_type": "code",
   "execution_count": 3,
   "metadata": {},
   "outputs": [],
   "source": [
    "df = pickle.load(open('churn_con_woe','rb'))"
   ]
  },
  {
   "cell_type": "code",
   "execution_count": 4,
   "metadata": {},
   "outputs": [
    {
     "data": {
      "text/html": [
       "<div>\n",
       "<style scoped>\n",
       "    .dataframe tbody tr th:only-of-type {\n",
       "        vertical-align: middle;\n",
       "    }\n",
       "\n",
       "    .dataframe tbody tr th {\n",
       "        vertical-align: top;\n",
       "    }\n",
       "\n",
       "    .dataframe thead th {\n",
       "        text-align: right;\n",
       "    }\n",
       "</style>\n",
       "<table border=\"1\" class=\"dataframe\">\n",
       "  <thead>\n",
       "    <tr style=\"text-align: right;\">\n",
       "      <th></th>\n",
       "      <th>V_ACCT_LGHT</th>\n",
       "      <th>C_IP</th>\n",
       "      <th>C_VMP</th>\n",
       "      <th>V_N_VM_MESS</th>\n",
       "      <th>V_T_DAY_CHG</th>\n",
       "      <th>V_T_EVE_CALLS</th>\n",
       "      <th>V_T_EVE_CHG</th>\n",
       "      <th>V_T_NIG_CALLS</th>\n",
       "      <th>V_T_NIG_CHG</th>\n",
       "      <th>V_T_INT_CALLS</th>\n",
       "      <th>...</th>\n",
       "      <th>W_V_ACCT_LGHT</th>\n",
       "      <th>W_V_N_VM_MESS</th>\n",
       "      <th>W_V_T_DAY_CHG</th>\n",
       "      <th>W_V_T_EVE_CALLS</th>\n",
       "      <th>W_V_T_EVE_CHG</th>\n",
       "      <th>W_V_T_NIG_CALLS</th>\n",
       "      <th>W_V_T_NIG_CHG</th>\n",
       "      <th>W_V_T_INT_CALLS</th>\n",
       "      <th>W_V_T_INT_CHG</th>\n",
       "      <th>W_V_CS_CALLS</th>\n",
       "    </tr>\n",
       "  </thead>\n",
       "  <tbody>\n",
       "    <tr>\n",
       "      <th>0</th>\n",
       "      <td>128</td>\n",
       "      <td>No</td>\n",
       "      <td>Yes</td>\n",
       "      <td>25</td>\n",
       "      <td>45.07</td>\n",
       "      <td>99</td>\n",
       "      <td>16.78</td>\n",
       "      <td>91</td>\n",
       "      <td>11.01</td>\n",
       "      <td>3</td>\n",
       "      <td>...</td>\n",
       "      <td>0.061033</td>\n",
       "      <td>1.219037</td>\n",
       "      <td>-1.864202</td>\n",
       "      <td>0.068283</td>\n",
       "      <td>0.065696</td>\n",
       "      <td>-0.089148</td>\n",
       "      <td>-0.05179</td>\n",
       "      <td>-0.29035</td>\n",
       "      <td>0.007263</td>\n",
       "      <td>0.295956</td>\n",
       "    </tr>\n",
       "    <tr>\n",
       "      <th>1</th>\n",
       "      <td>156</td>\n",
       "      <td>No</td>\n",
       "      <td>No</td>\n",
       "      <td>0</td>\n",
       "      <td>29.67</td>\n",
       "      <td>116</td>\n",
       "      <td>16.78</td>\n",
       "      <td>86</td>\n",
       "      <td>10.73</td>\n",
       "      <td>2</td>\n",
       "      <td>...</td>\n",
       "      <td>0.061033</td>\n",
       "      <td>-0.147174</td>\n",
       "      <td>0.561314</td>\n",
       "      <td>-0.053201</td>\n",
       "      <td>0.065696</td>\n",
       "      <td>-0.089148</td>\n",
       "      <td>-0.05179</td>\n",
       "      <td>-0.29035</td>\n",
       "      <td>0.007263</td>\n",
       "      <td>0.295956</td>\n",
       "    </tr>\n",
       "    <tr>\n",
       "      <th>2</th>\n",
       "      <td>57</td>\n",
       "      <td>No</td>\n",
       "      <td>No</td>\n",
       "      <td>0</td>\n",
       "      <td>14.60</td>\n",
       "      <td>127</td>\n",
       "      <td>16.48</td>\n",
       "      <td>93</td>\n",
       "      <td>10.42</td>\n",
       "      <td>2</td>\n",
       "      <td>...</td>\n",
       "      <td>0.053118</td>\n",
       "      <td>-0.147174</td>\n",
       "      <td>0.178109</td>\n",
       "      <td>-0.053201</td>\n",
       "      <td>0.065696</td>\n",
       "      <td>-0.089148</td>\n",
       "      <td>-0.05179</td>\n",
       "      <td>-0.29035</td>\n",
       "      <td>0.007263</td>\n",
       "      <td>0.295956</td>\n",
       "    </tr>\n",
       "    <tr>\n",
       "      <th>3</th>\n",
       "      <td>58</td>\n",
       "      <td>No</td>\n",
       "      <td>Yes</td>\n",
       "      <td>20</td>\n",
       "      <td>33.07</td>\n",
       "      <td>89</td>\n",
       "      <td>18.16</td>\n",
       "      <td>92</td>\n",
       "      <td>10.65</td>\n",
       "      <td>2</td>\n",
       "      <td>...</td>\n",
       "      <td>0.053118</td>\n",
       "      <td>1.219037</td>\n",
       "      <td>0.561314</td>\n",
       "      <td>0.031576</td>\n",
       "      <td>0.065696</td>\n",
       "      <td>-0.089148</td>\n",
       "      <td>-0.05179</td>\n",
       "      <td>-0.29035</td>\n",
       "      <td>0.007263</td>\n",
       "      <td>0.295956</td>\n",
       "    </tr>\n",
       "    <tr>\n",
       "      <th>4</th>\n",
       "      <td>149</td>\n",
       "      <td>No</td>\n",
       "      <td>No</td>\n",
       "      <td>0</td>\n",
       "      <td>31.89</td>\n",
       "      <td>81</td>\n",
       "      <td>17.12</td>\n",
       "      <td>79</td>\n",
       "      <td>11.89</td>\n",
       "      <td>1</td>\n",
       "      <td>...</td>\n",
       "      <td>0.061033</td>\n",
       "      <td>-0.147174</td>\n",
       "      <td>0.561314</td>\n",
       "      <td>0.031576</td>\n",
       "      <td>0.065696</td>\n",
       "      <td>-0.089148</td>\n",
       "      <td>-0.05179</td>\n",
       "      <td>-0.29035</td>\n",
       "      <td>0.007263</td>\n",
       "      <td>0.295956</td>\n",
       "    </tr>\n",
       "  </tbody>\n",
       "</table>\n",
       "<p>5 rows × 26 columns</p>\n",
       "</div>"
      ],
      "text/plain": [
       "   V_ACCT_LGHT C_IP C_VMP  V_N_VM_MESS  V_T_DAY_CHG  V_T_EVE_CALLS  \\\n",
       "0          128   No   Yes           25        45.07             99   \n",
       "1          156   No    No            0        29.67            116   \n",
       "2           57   No    No            0        14.60            127   \n",
       "3           58   No   Yes           20        33.07             89   \n",
       "4          149   No    No            0        31.89             81   \n",
       "\n",
       "   V_T_EVE_CHG  V_T_NIG_CALLS  V_T_NIG_CHG  V_T_INT_CALLS      ...       \\\n",
       "0        16.78             91        11.01              3      ...        \n",
       "1        16.78             86        10.73              2      ...        \n",
       "2        16.48             93        10.42              2      ...        \n",
       "3        18.16             92        10.65              2      ...        \n",
       "4        17.12             79        11.89              1      ...        \n",
       "\n",
       "   W_V_ACCT_LGHT  W_V_N_VM_MESS  W_V_T_DAY_CHG  W_V_T_EVE_CALLS  \\\n",
       "0       0.061033       1.219037      -1.864202         0.068283   \n",
       "1       0.061033      -0.147174       0.561314        -0.053201   \n",
       "2       0.053118      -0.147174       0.178109        -0.053201   \n",
       "3       0.053118       1.219037       0.561314         0.031576   \n",
       "4       0.061033      -0.147174       0.561314         0.031576   \n",
       "\n",
       "   W_V_T_EVE_CHG  W_V_T_NIG_CALLS  W_V_T_NIG_CHG  W_V_T_INT_CALLS  \\\n",
       "0       0.065696        -0.089148       -0.05179         -0.29035   \n",
       "1       0.065696        -0.089148       -0.05179         -0.29035   \n",
       "2       0.065696        -0.089148       -0.05179         -0.29035   \n",
       "3       0.065696        -0.089148       -0.05179         -0.29035   \n",
       "4       0.065696        -0.089148       -0.05179         -0.29035   \n",
       "\n",
       "   W_V_T_INT_CHG  W_V_CS_CALLS  \n",
       "0       0.007263      0.295956  \n",
       "1       0.007263      0.295956  \n",
       "2       0.007263      0.295956  \n",
       "3       0.007263      0.295956  \n",
       "4       0.007263      0.295956  \n",
       "\n",
       "[5 rows x 26 columns]"
      ]
     },
     "execution_count": 4,
     "metadata": {},
     "output_type": "execute_result"
    }
   ],
   "source": [
    "df.head()"
   ]
  },
  {
   "cell_type": "code",
   "execution_count": 5,
   "metadata": {},
   "outputs": [],
   "source": [
    "X = df[[v for v in df.columns if v[:2]=='V_']+[v for v in df.columns if v[:4]=='W_C_']].copy()\n",
    "y = df['TARGET'].copy()"
   ]
  },
  {
   "cell_type": "code",
   "execution_count": 6,
   "metadata": {},
   "outputs": [],
   "source": [
    "Xt,Xv,yt,yv = train_test_split(X,y,train_size=0.7)"
   ]
  },
  {
   "cell_type": "code",
   "execution_count": 7,
   "metadata": {},
   "outputs": [],
   "source": [
    "model = DecisionTreeClassifier()"
   ]
  },
  {
   "cell_type": "code",
   "execution_count": 8,
   "metadata": {},
   "outputs": [
    {
     "data": {
      "text/plain": [
       "DecisionTreeClassifier(class_weight=None, criterion='gini', max_depth=None,\n",
       "            max_features=None, max_leaf_nodes=None,\n",
       "            min_impurity_split=1e-07, min_samples_leaf=1,\n",
       "            min_samples_split=2, min_weight_fraction_leaf=0.0,\n",
       "            presort=False, random_state=None, splitter='best')"
      ]
     },
     "execution_count": 8,
     "metadata": {},
     "output_type": "execute_result"
    }
   ],
   "source": [
    "model.fit(Xt,yt)"
   ]
  },
  {
   "cell_type": "code",
   "execution_count": 9,
   "metadata": {},
   "outputs": [
    {
     "name": "stdout",
     "output_type": "stream",
     "text": [
      "ROC train:1.000 | ROC test:0.865 \n",
      "ACC train:1.000 | ACC test:0.930 \n"
     ]
    }
   ],
   "source": [
    "metricas(model,Xt,Xv,yt,yv)"
   ]
  },
  {
   "cell_type": "code",
   "execution_count": 10,
   "metadata": {},
   "outputs": [],
   "source": [
    "param_grid = dict(criterion = ['gini','entropy'],\n",
    "splitter = ['best','random'],\n",
    "max_features = range(2,13),\n",
    "max_depth = range(3,15))"
   ]
  },
  {
   "cell_type": "code",
   "execution_count": 11,
   "metadata": {},
   "outputs": [],
   "source": [
    "model = DecisionTreeClassifier()"
   ]
  },
  {
   "cell_type": "code",
   "execution_count": 14,
   "metadata": {},
   "outputs": [],
   "source": [
    "grid = GridSearchCV(cv=3,\n",
    "                    verbose=True,\n",
    "                    estimator=model,\n",
    "                    param_grid=param_grid,\n",
    "                    n_jobs=-1,\n",
    "                    scoring='roc_auc')"
   ]
  },
  {
   "cell_type": "code",
   "execution_count": 17,
   "metadata": {},
   "outputs": [
    {
     "name": "stdout",
     "output_type": "stream",
     "text": [
      "Fitting 3 folds for each of 528 candidates, totalling 1584 fits\n"
     ]
    },
    {
     "name": "stderr",
     "output_type": "stream",
     "text": [
      "[Parallel(n_jobs=-1)]: Done 780 tasks      | elapsed:    3.2s\n"
     ]
    },
    {
     "name": "stdout",
     "output_type": "stream",
     "text": [
      "CPU times: user 3.23 s, sys: 236 ms, total: 3.47 s\n",
      "Wall time: 6.68 s\n"
     ]
    },
    {
     "name": "stderr",
     "output_type": "stream",
     "text": [
      "[Parallel(n_jobs=-1)]: Done 1584 out of 1584 | elapsed:    6.5s finished\n"
     ]
    },
    {
     "data": {
      "text/plain": [
       "GridSearchCV(cv=3, error_score='raise',\n",
       "       estimator=DecisionTreeClassifier(class_weight=None, criterion='gini', max_depth=None,\n",
       "            max_features=None, max_leaf_nodes=None,\n",
       "            min_impurity_split=1e-07, min_samples_leaf=1,\n",
       "            min_samples_split=2, min_weight_fraction_leaf=0.0,\n",
       "            presort=False, random_state=None, splitter='best'),\n",
       "       fit_params={}, iid=True, n_jobs=-1,\n",
       "       param_grid={'max_features': [2, 3, 4, 5, 6, 7, 8, 9, 10, 11, 12], 'splitter': ['best', 'random'], 'criterion': ['gini', 'entropy'], 'max_depth': [3, 4, 5, 6, 7, 8, 9, 10, 11, 12, 13, 14]},\n",
       "       pre_dispatch='2*n_jobs', refit=True, return_train_score=True,\n",
       "       scoring='roc_auc', verbose=True)"
      ]
     },
     "execution_count": 17,
     "metadata": {},
     "output_type": "execute_result"
    }
   ],
   "source": [
    "%%time\n",
    "grid.fit(X,y)"
   ]
  },
  {
   "cell_type": "code",
   "execution_count": 19,
   "metadata": {},
   "outputs": [
    {
     "data": {
      "text/plain": [
       "DecisionTreeClassifier(class_weight=None, criterion='gini', max_depth=5,\n",
       "            max_features=11, max_leaf_nodes=None, min_impurity_split=1e-07,\n",
       "            min_samples_leaf=1, min_samples_split=2,\n",
       "            min_weight_fraction_leaf=0.0, presort=False, random_state=None,\n",
       "            splitter='best')"
      ]
     },
     "execution_count": 19,
     "metadata": {},
     "output_type": "execute_result"
    }
   ],
   "source": [
    "model = grid.best_estimator_\n",
    "model.fit(Xt,yt)"
   ]
  },
  {
   "cell_type": "code",
   "execution_count": 20,
   "metadata": {},
   "outputs": [
    {
     "name": "stdout",
     "output_type": "stream",
     "text": [
      "ROC train:0.912 | ROC test:0.902 \n",
      "ACC train:0.952 | ACC test:0.935 \n"
     ]
    }
   ],
   "source": [
    "metricas(model,Xt,Xv,yt,yv)"
   ]
  },
  {
   "cell_type": "code",
   "execution_count": null,
   "metadata": {},
   "outputs": [],
   "source": []
  }
 ],
 "metadata": {
  "kernelspec": {
   "display_name": "Python 2",
   "language": "python",
   "name": "python2"
  },
  "language_info": {
   "codemirror_mode": {
    "name": "ipython",
    "version": 2
   },
   "file_extension": ".py",
   "mimetype": "text/x-python",
   "name": "python",
   "nbconvert_exporter": "python",
   "pygments_lexer": "ipython2",
   "version": "2.7.14"
  }
 },
 "nbformat": 4,
 "nbformat_minor": 2
}
