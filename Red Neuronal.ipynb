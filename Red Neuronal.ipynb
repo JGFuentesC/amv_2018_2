{
 "cells": [
  {
   "cell_type": "code",
   "execution_count": 24,
   "metadata": {},
   "outputs": [],
   "source": [
    "import numpy as np\n",
    "import pandas as pd\n",
    "import pickle\n",
    "from sklearn.neural_network import MLPClassifier\n",
    "from sklearn.preprocessing import MinMaxScaler,StandardScaler\n",
    "from sklearn.decomposition import PCA\n",
    "from sklearn.pipeline import make_pipeline\n",
    "from sklearn.metrics import accuracy_score,roc_auc_score\n",
    "from sklearn.model_selection import GridSearchCV,train_test_split,RandomizedSearchCV"
   ]
  },
  {
   "cell_type": "code",
   "execution_count": 2,
   "metadata": {},
   "outputs": [],
   "source": [
    "def metricas(model,Xt,Xv,yt,yv):\n",
    "    print \"ROC train:%.3f | ROC test:%.3f \" %(roc_auc_score(y_true=yt,y_score=model.predict_proba(Xt)[:,1]),roc_auc_score(y_true=yv,y_score=model.predict_proba(Xv)[:,1]))\n",
    "    print \"ACC train:%.3f | ACC test:%.3f \" %(accuracy_score(y_true=yt,y_pred=model.predict(Xt)),accuracy_score(y_true=yv,y_pred=model.predict(Xv)))"
   ]
  },
  {
   "cell_type": "code",
   "execution_count": 3,
   "metadata": {},
   "outputs": [],
   "source": [
    "df = pickle.load(open('churn_con_woe','rb'))"
   ]
  },
  {
   "cell_type": "code",
   "execution_count": 4,
   "metadata": {},
   "outputs": [
    {
     "data": {
      "text/html": [
       "<div>\n",
       "<style scoped>\n",
       "    .dataframe tbody tr th:only-of-type {\n",
       "        vertical-align: middle;\n",
       "    }\n",
       "\n",
       "    .dataframe tbody tr th {\n",
       "        vertical-align: top;\n",
       "    }\n",
       "\n",
       "    .dataframe thead th {\n",
       "        text-align: right;\n",
       "    }\n",
       "</style>\n",
       "<table border=\"1\" class=\"dataframe\">\n",
       "  <thead>\n",
       "    <tr style=\"text-align: right;\">\n",
       "      <th></th>\n",
       "      <th>V_ACCT_LGHT</th>\n",
       "      <th>C_IP</th>\n",
       "      <th>C_VMP</th>\n",
       "      <th>V_N_VM_MESS</th>\n",
       "      <th>V_T_DAY_CHG</th>\n",
       "      <th>V_T_EVE_CALLS</th>\n",
       "      <th>V_T_EVE_CHG</th>\n",
       "      <th>V_T_NIG_CALLS</th>\n",
       "      <th>V_T_NIG_CHG</th>\n",
       "      <th>V_T_INT_CALLS</th>\n",
       "      <th>...</th>\n",
       "      <th>W_V_ACCT_LGHT</th>\n",
       "      <th>W_V_N_VM_MESS</th>\n",
       "      <th>W_V_T_DAY_CHG</th>\n",
       "      <th>W_V_T_EVE_CALLS</th>\n",
       "      <th>W_V_T_EVE_CHG</th>\n",
       "      <th>W_V_T_NIG_CALLS</th>\n",
       "      <th>W_V_T_NIG_CHG</th>\n",
       "      <th>W_V_T_INT_CALLS</th>\n",
       "      <th>W_V_T_INT_CHG</th>\n",
       "      <th>W_V_CS_CALLS</th>\n",
       "    </tr>\n",
       "  </thead>\n",
       "  <tbody>\n",
       "    <tr>\n",
       "      <th>0</th>\n",
       "      <td>128</td>\n",
       "      <td>No</td>\n",
       "      <td>Yes</td>\n",
       "      <td>25</td>\n",
       "      <td>45.07</td>\n",
       "      <td>99</td>\n",
       "      <td>16.78</td>\n",
       "      <td>91</td>\n",
       "      <td>11.01</td>\n",
       "      <td>3</td>\n",
       "      <td>...</td>\n",
       "      <td>0.061033</td>\n",
       "      <td>1.219037</td>\n",
       "      <td>-1.864202</td>\n",
       "      <td>0.068283</td>\n",
       "      <td>0.065696</td>\n",
       "      <td>-0.089148</td>\n",
       "      <td>-0.05179</td>\n",
       "      <td>-0.29035</td>\n",
       "      <td>0.007263</td>\n",
       "      <td>0.295956</td>\n",
       "    </tr>\n",
       "    <tr>\n",
       "      <th>1</th>\n",
       "      <td>156</td>\n",
       "      <td>No</td>\n",
       "      <td>No</td>\n",
       "      <td>0</td>\n",
       "      <td>29.67</td>\n",
       "      <td>116</td>\n",
       "      <td>16.78</td>\n",
       "      <td>86</td>\n",
       "      <td>10.73</td>\n",
       "      <td>2</td>\n",
       "      <td>...</td>\n",
       "      <td>0.061033</td>\n",
       "      <td>-0.147174</td>\n",
       "      <td>0.561314</td>\n",
       "      <td>-0.053201</td>\n",
       "      <td>0.065696</td>\n",
       "      <td>-0.089148</td>\n",
       "      <td>-0.05179</td>\n",
       "      <td>-0.29035</td>\n",
       "      <td>0.007263</td>\n",
       "      <td>0.295956</td>\n",
       "    </tr>\n",
       "    <tr>\n",
       "      <th>2</th>\n",
       "      <td>57</td>\n",
       "      <td>No</td>\n",
       "      <td>No</td>\n",
       "      <td>0</td>\n",
       "      <td>14.60</td>\n",
       "      <td>127</td>\n",
       "      <td>16.48</td>\n",
       "      <td>93</td>\n",
       "      <td>10.42</td>\n",
       "      <td>2</td>\n",
       "      <td>...</td>\n",
       "      <td>0.053118</td>\n",
       "      <td>-0.147174</td>\n",
       "      <td>0.178109</td>\n",
       "      <td>-0.053201</td>\n",
       "      <td>0.065696</td>\n",
       "      <td>-0.089148</td>\n",
       "      <td>-0.05179</td>\n",
       "      <td>-0.29035</td>\n",
       "      <td>0.007263</td>\n",
       "      <td>0.295956</td>\n",
       "    </tr>\n",
       "    <tr>\n",
       "      <th>3</th>\n",
       "      <td>58</td>\n",
       "      <td>No</td>\n",
       "      <td>Yes</td>\n",
       "      <td>20</td>\n",
       "      <td>33.07</td>\n",
       "      <td>89</td>\n",
       "      <td>18.16</td>\n",
       "      <td>92</td>\n",
       "      <td>10.65</td>\n",
       "      <td>2</td>\n",
       "      <td>...</td>\n",
       "      <td>0.053118</td>\n",
       "      <td>1.219037</td>\n",
       "      <td>0.561314</td>\n",
       "      <td>0.031576</td>\n",
       "      <td>0.065696</td>\n",
       "      <td>-0.089148</td>\n",
       "      <td>-0.05179</td>\n",
       "      <td>-0.29035</td>\n",
       "      <td>0.007263</td>\n",
       "      <td>0.295956</td>\n",
       "    </tr>\n",
       "    <tr>\n",
       "      <th>4</th>\n",
       "      <td>149</td>\n",
       "      <td>No</td>\n",
       "      <td>No</td>\n",
       "      <td>0</td>\n",
       "      <td>31.89</td>\n",
       "      <td>81</td>\n",
       "      <td>17.12</td>\n",
       "      <td>79</td>\n",
       "      <td>11.89</td>\n",
       "      <td>1</td>\n",
       "      <td>...</td>\n",
       "      <td>0.061033</td>\n",
       "      <td>-0.147174</td>\n",
       "      <td>0.561314</td>\n",
       "      <td>0.031576</td>\n",
       "      <td>0.065696</td>\n",
       "      <td>-0.089148</td>\n",
       "      <td>-0.05179</td>\n",
       "      <td>-0.29035</td>\n",
       "      <td>0.007263</td>\n",
       "      <td>0.295956</td>\n",
       "    </tr>\n",
       "  </tbody>\n",
       "</table>\n",
       "<p>5 rows × 26 columns</p>\n",
       "</div>"
      ],
      "text/plain": [
       "   V_ACCT_LGHT C_IP C_VMP  V_N_VM_MESS  V_T_DAY_CHG  V_T_EVE_CALLS  \\\n",
       "0          128   No   Yes           25        45.07             99   \n",
       "1          156   No    No            0        29.67            116   \n",
       "2           57   No    No            0        14.60            127   \n",
       "3           58   No   Yes           20        33.07             89   \n",
       "4          149   No    No            0        31.89             81   \n",
       "\n",
       "   V_T_EVE_CHG  V_T_NIG_CALLS  V_T_NIG_CHG  V_T_INT_CALLS      ...       \\\n",
       "0        16.78             91        11.01              3      ...        \n",
       "1        16.78             86        10.73              2      ...        \n",
       "2        16.48             93        10.42              2      ...        \n",
       "3        18.16             92        10.65              2      ...        \n",
       "4        17.12             79        11.89              1      ...        \n",
       "\n",
       "   W_V_ACCT_LGHT  W_V_N_VM_MESS  W_V_T_DAY_CHG  W_V_T_EVE_CALLS  \\\n",
       "0       0.061033       1.219037      -1.864202         0.068283   \n",
       "1       0.061033      -0.147174       0.561314        -0.053201   \n",
       "2       0.053118      -0.147174       0.178109        -0.053201   \n",
       "3       0.053118       1.219037       0.561314         0.031576   \n",
       "4       0.061033      -0.147174       0.561314         0.031576   \n",
       "\n",
       "   W_V_T_EVE_CHG  W_V_T_NIG_CALLS  W_V_T_NIG_CHG  W_V_T_INT_CALLS  \\\n",
       "0       0.065696        -0.089148       -0.05179         -0.29035   \n",
       "1       0.065696        -0.089148       -0.05179         -0.29035   \n",
       "2       0.065696        -0.089148       -0.05179         -0.29035   \n",
       "3       0.065696        -0.089148       -0.05179         -0.29035   \n",
       "4       0.065696        -0.089148       -0.05179         -0.29035   \n",
       "\n",
       "   W_V_T_INT_CHG  W_V_CS_CALLS  \n",
       "0       0.007263      0.295956  \n",
       "1       0.007263      0.295956  \n",
       "2       0.007263      0.295956  \n",
       "3       0.007263      0.295956  \n",
       "4       0.007263      0.295956  \n",
       "\n",
       "[5 rows x 26 columns]"
      ]
     },
     "execution_count": 4,
     "metadata": {},
     "output_type": "execute_result"
    }
   ],
   "source": [
    "df.head()"
   ]
  },
  {
   "cell_type": "code",
   "execution_count": 5,
   "metadata": {},
   "outputs": [],
   "source": [
    "X = df[[v for v in df.columns if v[:2]=='V_']+[v for v in df.columns if v[:4]=='W_C_']].copy()\n",
    "y = df['TARGET'].copy()"
   ]
  },
  {
   "cell_type": "code",
   "execution_count": 8,
   "metadata": {},
   "outputs": [],
   "source": [
    "pipe = make_pipeline(StandardScaler(),PCA(),MinMaxScaler())"
   ]
  },
  {
   "cell_type": "code",
   "execution_count": 10,
   "metadata": {},
   "outputs": [],
   "source": [
    "pipe.fit(X)\n",
    "Xs = pd.DataFrame(pipe.transform(X))"
   ]
  },
  {
   "cell_type": "code",
   "execution_count": 13,
   "metadata": {},
   "outputs": [],
   "source": [
    "Xt,Xv,yt,yv = train_test_split(Xs,y,train_size=0.7)"
   ]
  },
  {
   "cell_type": "code",
   "execution_count": 14,
   "metadata": {},
   "outputs": [],
   "source": [
    "model = MLPClassifier()"
   ]
  },
  {
   "cell_type": "code",
   "execution_count": 15,
   "metadata": {},
   "outputs": [
    {
     "data": {
      "text/plain": [
       "MLPClassifier(activation='relu', alpha=0.0001, batch_size='auto', beta_1=0.9,\n",
       "       beta_2=0.999, early_stopping=False, epsilon=1e-08,\n",
       "       hidden_layer_sizes=(100,), learning_rate='constant',\n",
       "       learning_rate_init=0.001, max_iter=200, momentum=0.9,\n",
       "       nesterovs_momentum=True, power_t=0.5, random_state=None,\n",
       "       shuffle=True, solver='adam', tol=0.0001, validation_fraction=0.1,\n",
       "       verbose=False, warm_start=False)"
      ]
     },
     "execution_count": 15,
     "metadata": {},
     "output_type": "execute_result"
    }
   ],
   "source": [
    "model.fit(Xt,yt)"
   ]
  },
  {
   "cell_type": "code",
   "execution_count": 16,
   "metadata": {},
   "outputs": [
    {
     "name": "stdout",
     "output_type": "stream",
     "text": [
      "ROC train:0.896 | ROC test:0.911 \n",
      "ACC train:0.909 | ACC test:0.906 \n"
     ]
    }
   ],
   "source": [
    "metricas(model,Xt,Xv,yt,yv)"
   ]
  },
  {
   "cell_type": "code",
   "execution_count": 19,
   "metadata": {},
   "outputs": [],
   "source": [
    "param_grid = dict(activation = ['identity', 'logistic', 'tanh', 'relu'],\n",
    "alpha = np.arange(0.0001,0.0005,0.0001),\n",
    "learning_rate = ['constant', 'invscaling', 'adaptive'],\n",
    "max_iter = [1000],\n",
    "hidden_layer_sizes = [(a,b,c,) for a in range(20,35,5) for b in range(20,35,5) for c in range(20,35,5)]\n",
    "                 )"
   ]
  },
  {
   "cell_type": "code",
   "execution_count": 20,
   "metadata": {},
   "outputs": [],
   "source": [
    "model = MLPClassifier()"
   ]
  },
  {
   "cell_type": "code",
   "execution_count": 28,
   "metadata": {},
   "outputs": [],
   "source": [
    "grid = RandomizedSearchCV(cv=3,\n",
    "                          verbose=True,\n",
    "                          scoring='roc_auc',\n",
    "                          estimator=model,\n",
    "                          n_iter=100,\n",
    "                          n_jobs=-1,\n",
    "                          param_distributions=param_grid)"
   ]
  },
  {
   "cell_type": "code",
   "execution_count": 29,
   "metadata": {},
   "outputs": [
    {
     "name": "stdout",
     "output_type": "stream",
     "text": [
      "Fitting 3 folds for each of 100 candidates, totalling 300 fits\n"
     ]
    },
    {
     "name": "stderr",
     "output_type": "stream",
     "text": [
      "[Parallel(n_jobs=-1)]: Done  42 tasks      | elapsed:    9.9s\n",
      "[Parallel(n_jobs=-1)]: Done 192 tasks      | elapsed:   56.0s\n",
      "[Parallel(n_jobs=-1)]: Done 300 out of 300 | elapsed:  1.5min finished\n"
     ]
    },
    {
     "name": "stdout",
     "output_type": "stream",
     "text": [
      "CPU times: user 3.15 s, sys: 131 ms, total: 3.28 s\n",
      "Wall time: 1min 30s\n"
     ]
    },
    {
     "data": {
      "text/plain": [
       "RandomizedSearchCV(cv=3, error_score='raise',\n",
       "          estimator=MLPClassifier(activation='relu', alpha=0.0001, batch_size='auto', beta_1=0.9,\n",
       "       beta_2=0.999, early_stopping=False, epsilon=1e-08,\n",
       "       hidden_layer_sizes=(100,), learning_rate='constant',\n",
       "       learning_rate_init=0.001, max_iter=200, momentum=0.9,\n",
       "       nesterovs_momentum=True, power_t=0.5, random_state=None,\n",
       "       shuffle=True, solver='adam', tol=0.0001, validation_fraction=0.1,\n",
       "       verbose=False, warm_start=False),\n",
       "          fit_params={}, iid=True, n_iter=100, n_jobs=-1,\n",
       "          param_distributions={'alpha': array([0.0001, 0.0002, 0.0003, 0.0004]), 'learning_rate': ['constant', 'invscaling', 'adaptive'], 'max_iter': [1000], 'activation': ['identity', 'logistic', 'tanh', 'relu'], 'hidden_layer_sizes': [(20, 20, 20), (20, 20, 25), (20, 20, 30), (20, 25, 20), (20, 25, 25), (20..., (30, 20, 30), (30, 25, 20), (30, 25, 25), (30, 25, 30), (30, 30, 20), (30, 30, 25), (30, 30, 30)]},\n",
       "          pre_dispatch='2*n_jobs', random_state=None, refit=True,\n",
       "          return_train_score=True, scoring='roc_auc', verbose=True)"
      ]
     },
     "execution_count": 29,
     "metadata": {},
     "output_type": "execute_result"
    }
   ],
   "source": [
    "%%time\n",
    "grid.fit(Xs,y)"
   ]
  },
  {
   "cell_type": "code",
   "execution_count": 30,
   "metadata": {},
   "outputs": [
    {
     "data": {
      "text/plain": [
       "MLPClassifier(activation='relu', alpha=0.0004, batch_size='auto', beta_1=0.9,\n",
       "       beta_2=0.999, early_stopping=False, epsilon=1e-08,\n",
       "       hidden_layer_sizes=(20, 25, 20), learning_rate='adaptive',\n",
       "       learning_rate_init=0.001, max_iter=1000, momentum=0.9,\n",
       "       nesterovs_momentum=True, power_t=0.5, random_state=None,\n",
       "       shuffle=True, solver='adam', tol=0.0001, validation_fraction=0.1,\n",
       "       verbose=False, warm_start=False)"
      ]
     },
     "execution_count": 30,
     "metadata": {},
     "output_type": "execute_result"
    }
   ],
   "source": [
    "grid.best_estimator_"
   ]
  },
  {
   "cell_type": "code",
   "execution_count": 31,
   "metadata": {},
   "outputs": [
    {
     "data": {
      "text/plain": [
       "MLPClassifier(activation='relu', alpha=0.0004, batch_size='auto', beta_1=0.9,\n",
       "       beta_2=0.999, early_stopping=False, epsilon=1e-08,\n",
       "       hidden_layer_sizes=(20, 25, 20), learning_rate='adaptive',\n",
       "       learning_rate_init=0.001, max_iter=1000, momentum=0.9,\n",
       "       nesterovs_momentum=True, power_t=0.5, random_state=None,\n",
       "       shuffle=True, solver='adam', tol=0.0001, validation_fraction=0.1,\n",
       "       verbose=False, warm_start=False)"
      ]
     },
     "execution_count": 31,
     "metadata": {},
     "output_type": "execute_result"
    }
   ],
   "source": [
    "model = grid.best_estimator_\n",
    "model.fit(Xt,yt)"
   ]
  },
  {
   "cell_type": "code",
   "execution_count": 32,
   "metadata": {},
   "outputs": [
    {
     "name": "stdout",
     "output_type": "stream",
     "text": [
      "ROC train:0.905 | ROC test:0.910 \n",
      "ACC train:0.926 | ACC test:0.927 \n"
     ]
    }
   ],
   "source": [
    "metricas(model,Xt,Xv,yt,yv)"
   ]
  },
  {
   "cell_type": "code",
   "execution_count": null,
   "metadata": {},
   "outputs": [],
   "source": []
  }
 ],
 "metadata": {
  "kernelspec": {
   "display_name": "Python 2",
   "language": "python",
   "name": "python2"
  },
  "language_info": {
   "codemirror_mode": {
    "name": "ipython",
    "version": 2
   },
   "file_extension": ".py",
   "mimetype": "text/x-python",
   "name": "python",
   "nbconvert_exporter": "python",
   "pygments_lexer": "ipython2",
   "version": "2.7.14"
  }
 },
 "nbformat": 4,
 "nbformat_minor": 2
}
