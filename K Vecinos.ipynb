{
 "cells": [
  {
   "cell_type": "code",
   "execution_count": 1,
   "metadata": {},
   "outputs": [],
   "source": [
    "import numpy as np\n",
    "import pandas as pd\n",
    "import pickle\n",
    "from sklearn.neighbors import KNeighborsClassifier\n",
    "from sklearn.preprocessing import MinMaxScaler,StandardScaler\n",
    "from sklearn.decomposition import PCA\n",
    "from sklearn.pipeline import make_pipeline\n",
    "from sklearn.metrics import accuracy_score,roc_auc_score\n",
    "from sklearn.model_selection import GridSearchCV,train_test_split,RandomizedSearchCV"
   ]
  },
  {
   "cell_type": "code",
   "execution_count": 2,
   "metadata": {},
   "outputs": [],
   "source": [
    "def metricas(model,Xt,Xv,yt,yv):\n",
    "    print \"ROC train:%.3f | ROC test:%.3f \" %(roc_auc_score(y_true=yt,y_score=model.predict_proba(Xt)[:,1]),roc_auc_score(y_true=yv,y_score=model.predict_proba(Xv)[:,1]))\n",
    "    print \"ACC train:%.3f | ACC test:%.3f \" %(accuracy_score(y_true=yt,y_pred=model.predict(Xt)),accuracy_score(y_true=yv,y_pred=model.predict(Xv)))"
   ]
  },
  {
   "cell_type": "code",
   "execution_count": 3,
   "metadata": {},
   "outputs": [],
   "source": [
    "df = pickle.load(open('churn_con_woe','rb'))"
   ]
  },
  {
   "cell_type": "code",
   "execution_count": 4,
   "metadata": {},
   "outputs": [
    {
     "data": {
      "text/html": [
       "<div>\n",
       "<style scoped>\n",
       "    .dataframe tbody tr th:only-of-type {\n",
       "        vertical-align: middle;\n",
       "    }\n",
       "\n",
       "    .dataframe tbody tr th {\n",
       "        vertical-align: top;\n",
       "    }\n",
       "\n",
       "    .dataframe thead th {\n",
       "        text-align: right;\n",
       "    }\n",
       "</style>\n",
       "<table border=\"1\" class=\"dataframe\">\n",
       "  <thead>\n",
       "    <tr style=\"text-align: right;\">\n",
       "      <th></th>\n",
       "      <th>V_ACCT_LGHT</th>\n",
       "      <th>C_IP</th>\n",
       "      <th>C_VMP</th>\n",
       "      <th>V_N_VM_MESS</th>\n",
       "      <th>V_T_DAY_CHG</th>\n",
       "      <th>V_T_EVE_CALLS</th>\n",
       "      <th>V_T_EVE_CHG</th>\n",
       "      <th>V_T_NIG_CALLS</th>\n",
       "      <th>V_T_NIG_CHG</th>\n",
       "      <th>V_T_INT_CALLS</th>\n",
       "      <th>...</th>\n",
       "      <th>W_V_ACCT_LGHT</th>\n",
       "      <th>W_V_N_VM_MESS</th>\n",
       "      <th>W_V_T_DAY_CHG</th>\n",
       "      <th>W_V_T_EVE_CALLS</th>\n",
       "      <th>W_V_T_EVE_CHG</th>\n",
       "      <th>W_V_T_NIG_CALLS</th>\n",
       "      <th>W_V_T_NIG_CHG</th>\n",
       "      <th>W_V_T_INT_CALLS</th>\n",
       "      <th>W_V_T_INT_CHG</th>\n",
       "      <th>W_V_CS_CALLS</th>\n",
       "    </tr>\n",
       "  </thead>\n",
       "  <tbody>\n",
       "    <tr>\n",
       "      <th>0</th>\n",
       "      <td>128</td>\n",
       "      <td>No</td>\n",
       "      <td>Yes</td>\n",
       "      <td>25</td>\n",
       "      <td>45.07</td>\n",
       "      <td>99</td>\n",
       "      <td>16.78</td>\n",
       "      <td>91</td>\n",
       "      <td>11.01</td>\n",
       "      <td>3</td>\n",
       "      <td>...</td>\n",
       "      <td>0.061033</td>\n",
       "      <td>1.219037</td>\n",
       "      <td>-1.864202</td>\n",
       "      <td>0.068283</td>\n",
       "      <td>0.065696</td>\n",
       "      <td>-0.089148</td>\n",
       "      <td>-0.05179</td>\n",
       "      <td>-0.29035</td>\n",
       "      <td>0.007263</td>\n",
       "      <td>0.295956</td>\n",
       "    </tr>\n",
       "    <tr>\n",
       "      <th>1</th>\n",
       "      <td>156</td>\n",
       "      <td>No</td>\n",
       "      <td>No</td>\n",
       "      <td>0</td>\n",
       "      <td>29.67</td>\n",
       "      <td>116</td>\n",
       "      <td>16.78</td>\n",
       "      <td>86</td>\n",
       "      <td>10.73</td>\n",
       "      <td>2</td>\n",
       "      <td>...</td>\n",
       "      <td>0.061033</td>\n",
       "      <td>-0.147174</td>\n",
       "      <td>0.561314</td>\n",
       "      <td>-0.053201</td>\n",
       "      <td>0.065696</td>\n",
       "      <td>-0.089148</td>\n",
       "      <td>-0.05179</td>\n",
       "      <td>-0.29035</td>\n",
       "      <td>0.007263</td>\n",
       "      <td>0.295956</td>\n",
       "    </tr>\n",
       "    <tr>\n",
       "      <th>2</th>\n",
       "      <td>57</td>\n",
       "      <td>No</td>\n",
       "      <td>No</td>\n",
       "      <td>0</td>\n",
       "      <td>14.60</td>\n",
       "      <td>127</td>\n",
       "      <td>16.48</td>\n",
       "      <td>93</td>\n",
       "      <td>10.42</td>\n",
       "      <td>2</td>\n",
       "      <td>...</td>\n",
       "      <td>0.053118</td>\n",
       "      <td>-0.147174</td>\n",
       "      <td>0.178109</td>\n",
       "      <td>-0.053201</td>\n",
       "      <td>0.065696</td>\n",
       "      <td>-0.089148</td>\n",
       "      <td>-0.05179</td>\n",
       "      <td>-0.29035</td>\n",
       "      <td>0.007263</td>\n",
       "      <td>0.295956</td>\n",
       "    </tr>\n",
       "    <tr>\n",
       "      <th>3</th>\n",
       "      <td>58</td>\n",
       "      <td>No</td>\n",
       "      <td>Yes</td>\n",
       "      <td>20</td>\n",
       "      <td>33.07</td>\n",
       "      <td>89</td>\n",
       "      <td>18.16</td>\n",
       "      <td>92</td>\n",
       "      <td>10.65</td>\n",
       "      <td>2</td>\n",
       "      <td>...</td>\n",
       "      <td>0.053118</td>\n",
       "      <td>1.219037</td>\n",
       "      <td>0.561314</td>\n",
       "      <td>0.031576</td>\n",
       "      <td>0.065696</td>\n",
       "      <td>-0.089148</td>\n",
       "      <td>-0.05179</td>\n",
       "      <td>-0.29035</td>\n",
       "      <td>0.007263</td>\n",
       "      <td>0.295956</td>\n",
       "    </tr>\n",
       "    <tr>\n",
       "      <th>4</th>\n",
       "      <td>149</td>\n",
       "      <td>No</td>\n",
       "      <td>No</td>\n",
       "      <td>0</td>\n",
       "      <td>31.89</td>\n",
       "      <td>81</td>\n",
       "      <td>17.12</td>\n",
       "      <td>79</td>\n",
       "      <td>11.89</td>\n",
       "      <td>1</td>\n",
       "      <td>...</td>\n",
       "      <td>0.061033</td>\n",
       "      <td>-0.147174</td>\n",
       "      <td>0.561314</td>\n",
       "      <td>0.031576</td>\n",
       "      <td>0.065696</td>\n",
       "      <td>-0.089148</td>\n",
       "      <td>-0.05179</td>\n",
       "      <td>-0.29035</td>\n",
       "      <td>0.007263</td>\n",
       "      <td>0.295956</td>\n",
       "    </tr>\n",
       "  </tbody>\n",
       "</table>\n",
       "<p>5 rows × 26 columns</p>\n",
       "</div>"
      ],
      "text/plain": [
       "   V_ACCT_LGHT C_IP C_VMP  V_N_VM_MESS  V_T_DAY_CHG  V_T_EVE_CALLS  \\\n",
       "0          128   No   Yes           25        45.07             99   \n",
       "1          156   No    No            0        29.67            116   \n",
       "2           57   No    No            0        14.60            127   \n",
       "3           58   No   Yes           20        33.07             89   \n",
       "4          149   No    No            0        31.89             81   \n",
       "\n",
       "   V_T_EVE_CHG  V_T_NIG_CALLS  V_T_NIG_CHG  V_T_INT_CALLS      ...       \\\n",
       "0        16.78             91        11.01              3      ...        \n",
       "1        16.78             86        10.73              2      ...        \n",
       "2        16.48             93        10.42              2      ...        \n",
       "3        18.16             92        10.65              2      ...        \n",
       "4        17.12             79        11.89              1      ...        \n",
       "\n",
       "   W_V_ACCT_LGHT  W_V_N_VM_MESS  W_V_T_DAY_CHG  W_V_T_EVE_CALLS  \\\n",
       "0       0.061033       1.219037      -1.864202         0.068283   \n",
       "1       0.061033      -0.147174       0.561314        -0.053201   \n",
       "2       0.053118      -0.147174       0.178109        -0.053201   \n",
       "3       0.053118       1.219037       0.561314         0.031576   \n",
       "4       0.061033      -0.147174       0.561314         0.031576   \n",
       "\n",
       "   W_V_T_EVE_CHG  W_V_T_NIG_CALLS  W_V_T_NIG_CHG  W_V_T_INT_CALLS  \\\n",
       "0       0.065696        -0.089148       -0.05179         -0.29035   \n",
       "1       0.065696        -0.089148       -0.05179         -0.29035   \n",
       "2       0.065696        -0.089148       -0.05179         -0.29035   \n",
       "3       0.065696        -0.089148       -0.05179         -0.29035   \n",
       "4       0.065696        -0.089148       -0.05179         -0.29035   \n",
       "\n",
       "   W_V_T_INT_CHG  W_V_CS_CALLS  \n",
       "0       0.007263      0.295956  \n",
       "1       0.007263      0.295956  \n",
       "2       0.007263      0.295956  \n",
       "3       0.007263      0.295956  \n",
       "4       0.007263      0.295956  \n",
       "\n",
       "[5 rows x 26 columns]"
      ]
     },
     "execution_count": 4,
     "metadata": {},
     "output_type": "execute_result"
    }
   ],
   "source": [
    "df.head()"
   ]
  },
  {
   "cell_type": "code",
   "execution_count": 5,
   "metadata": {},
   "outputs": [],
   "source": [
    "X = df[[v for v in df.columns if v[:2]=='V_']+[v for v in df.columns if v[:4]=='W_C_']].copy()\n",
    "y = df['TARGET'].copy()"
   ]
  },
  {
   "cell_type": "code",
   "execution_count": 6,
   "metadata": {},
   "outputs": [],
   "source": [
    "pipe = make_pipeline(MinMaxScaler())\n",
    "pipe.fit(X)\n",
    "Xs = pd.DataFrame(pipe.transform(X),columns=X.columns)"
   ]
  },
  {
   "cell_type": "code",
   "execution_count": 7,
   "metadata": {},
   "outputs": [
    {
     "data": {
      "text/html": [
       "<div>\n",
       "<style scoped>\n",
       "    .dataframe tbody tr th:only-of-type {\n",
       "        vertical-align: middle;\n",
       "    }\n",
       "\n",
       "    .dataframe tbody tr th {\n",
       "        vertical-align: top;\n",
       "    }\n",
       "\n",
       "    .dataframe thead th {\n",
       "        text-align: right;\n",
       "    }\n",
       "</style>\n",
       "<table border=\"1\" class=\"dataframe\">\n",
       "  <thead>\n",
       "    <tr style=\"text-align: right;\">\n",
       "      <th></th>\n",
       "      <th>V_ACCT_LGHT</th>\n",
       "      <th>V_N_VM_MESS</th>\n",
       "      <th>V_T_DAY_CHG</th>\n",
       "      <th>V_T_EVE_CALLS</th>\n",
       "      <th>V_T_EVE_CHG</th>\n",
       "      <th>V_T_NIG_CALLS</th>\n",
       "      <th>V_T_NIG_CHG</th>\n",
       "      <th>V_T_INT_CALLS</th>\n",
       "      <th>V_T_INT_CHG</th>\n",
       "      <th>V_CS_CALLS</th>\n",
       "      <th>W_C_IP</th>\n",
       "      <th>W_C_VMP</th>\n",
       "    </tr>\n",
       "  </thead>\n",
       "  <tbody>\n",
       "    <tr>\n",
       "      <th>0</th>\n",
       "      <td>0.633880</td>\n",
       "      <td>0.581395</td>\n",
       "      <td>0.841885</td>\n",
       "      <td>0.489362</td>\n",
       "      <td>0.492640</td>\n",
       "      <td>0.377778</td>\n",
       "      <td>0.693383</td>\n",
       "      <td>0.166667</td>\n",
       "      <td>0.500000</td>\n",
       "      <td>0.166667</td>\n",
       "      <td>1.0</td>\n",
       "      <td>1.0</td>\n",
       "    </tr>\n",
       "    <tr>\n",
       "      <th>1</th>\n",
       "      <td>0.786885</td>\n",
       "      <td>0.000000</td>\n",
       "      <td>0.484328</td>\n",
       "      <td>0.670213</td>\n",
       "      <td>0.492640</td>\n",
       "      <td>0.322222</td>\n",
       "      <td>0.667288</td>\n",
       "      <td>0.083333</td>\n",
       "      <td>0.544199</td>\n",
       "      <td>0.000000</td>\n",
       "      <td>1.0</td>\n",
       "      <td>0.0</td>\n",
       "    </tr>\n",
       "    <tr>\n",
       "      <th>2</th>\n",
       "      <td>0.245902</td>\n",
       "      <td>0.000000</td>\n",
       "      <td>0.134432</td>\n",
       "      <td>0.787234</td>\n",
       "      <td>0.477920</td>\n",
       "      <td>0.400000</td>\n",
       "      <td>0.638397</td>\n",
       "      <td>0.083333</td>\n",
       "      <td>0.508287</td>\n",
       "      <td>0.000000</td>\n",
       "      <td>1.0</td>\n",
       "      <td>0.0</td>\n",
       "    </tr>\n",
       "    <tr>\n",
       "      <th>3</th>\n",
       "      <td>0.251366</td>\n",
       "      <td>0.465116</td>\n",
       "      <td>0.563269</td>\n",
       "      <td>0.382979</td>\n",
       "      <td>0.560353</td>\n",
       "      <td>0.388889</td>\n",
       "      <td>0.659832</td>\n",
       "      <td>0.083333</td>\n",
       "      <td>0.464088</td>\n",
       "      <td>0.166667</td>\n",
       "      <td>1.0</td>\n",
       "      <td>1.0</td>\n",
       "    </tr>\n",
       "    <tr>\n",
       "      <th>4</th>\n",
       "      <td>0.748634</td>\n",
       "      <td>0.000000</td>\n",
       "      <td>0.535872</td>\n",
       "      <td>0.297872</td>\n",
       "      <td>0.509323</td>\n",
       "      <td>0.244444</td>\n",
       "      <td>0.775396</td>\n",
       "      <td>0.000000</td>\n",
       "      <td>0.411602</td>\n",
       "      <td>0.166667</td>\n",
       "      <td>1.0</td>\n",
       "      <td>0.0</td>\n",
       "    </tr>\n",
       "  </tbody>\n",
       "</table>\n",
       "</div>"
      ],
      "text/plain": [
       "   V_ACCT_LGHT  V_N_VM_MESS  V_T_DAY_CHG  V_T_EVE_CALLS  V_T_EVE_CHG  \\\n",
       "0     0.633880     0.581395     0.841885       0.489362     0.492640   \n",
       "1     0.786885     0.000000     0.484328       0.670213     0.492640   \n",
       "2     0.245902     0.000000     0.134432       0.787234     0.477920   \n",
       "3     0.251366     0.465116     0.563269       0.382979     0.560353   \n",
       "4     0.748634     0.000000     0.535872       0.297872     0.509323   \n",
       "\n",
       "   V_T_NIG_CALLS  V_T_NIG_CHG  V_T_INT_CALLS  V_T_INT_CHG  V_CS_CALLS  W_C_IP  \\\n",
       "0       0.377778     0.693383       0.166667     0.500000    0.166667     1.0   \n",
       "1       0.322222     0.667288       0.083333     0.544199    0.000000     1.0   \n",
       "2       0.400000     0.638397       0.083333     0.508287    0.000000     1.0   \n",
       "3       0.388889     0.659832       0.083333     0.464088    0.166667     1.0   \n",
       "4       0.244444     0.775396       0.000000     0.411602    0.166667     1.0   \n",
       "\n",
       "   W_C_VMP  \n",
       "0      1.0  \n",
       "1      0.0  \n",
       "2      0.0  \n",
       "3      1.0  \n",
       "4      0.0  "
      ]
     },
     "execution_count": 7,
     "metadata": {},
     "output_type": "execute_result"
    }
   ],
   "source": [
    "Xs.head()"
   ]
  },
  {
   "cell_type": "code",
   "execution_count": 8,
   "metadata": {},
   "outputs": [],
   "source": [
    "Xt,Xv,yt,yv = train_test_split(Xs,y,train_size=0.7)"
   ]
  },
  {
   "cell_type": "code",
   "execution_count": 9,
   "metadata": {},
   "outputs": [],
   "source": [
    "model = KNeighborsClassifier()"
   ]
  },
  {
   "cell_type": "code",
   "execution_count": 10,
   "metadata": {},
   "outputs": [
    {
     "data": {
      "text/plain": [
       "KNeighborsClassifier(algorithm='auto', leaf_size=30, metric='minkowski',\n",
       "           metric_params=None, n_jobs=1, n_neighbors=5, p=2,\n",
       "           weights='uniform')"
      ]
     },
     "execution_count": 10,
     "metadata": {},
     "output_type": "execute_result"
    }
   ],
   "source": [
    "model.fit(Xt,yt)"
   ]
  },
  {
   "cell_type": "code",
   "execution_count": 11,
   "metadata": {},
   "outputs": [
    {
     "name": "stdout",
     "output_type": "stream",
     "text": [
      "ROC train:0.959 | ROC test:0.819 \n",
      "ACC train:0.921 | ACC test:0.897 \n"
     ]
    }
   ],
   "source": [
    "metricas(model,Xt,Xv,yt,yv)"
   ]
  },
  {
   "cell_type": "code",
   "execution_count": 12,
   "metadata": {},
   "outputs": [],
   "source": [
    "param_grid = dict(n_neighbors = range(4,90)\n",
    ")"
   ]
  },
  {
   "cell_type": "code",
   "execution_count": 13,
   "metadata": {},
   "outputs": [],
   "source": [
    "grid = GridSearchCV(cv=3,\n",
    "                  verbose=True,\n",
    "                  scoring='roc_auc',\n",
    "                  estimator=model,\n",
    "                  n_jobs=-1,\n",
    "                  param_grid=param_grid)"
   ]
  },
  {
   "cell_type": "code",
   "execution_count": 14,
   "metadata": {},
   "outputs": [
    {
     "name": "stdout",
     "output_type": "stream",
     "text": [
      "Fitting 3 folds for each of 86 candidates, totalling 258 fits\n"
     ]
    },
    {
     "name": "stderr",
     "output_type": "stream",
     "text": [
      "[Parallel(n_jobs=-1)]: Done  76 tasks      | elapsed:    4.4s\n",
      "[Parallel(n_jobs=-1)]: Done 258 out of 258 | elapsed:   17.3s finished\n"
     ]
    },
    {
     "data": {
      "text/plain": [
       "GridSearchCV(cv=3, error_score='raise',\n",
       "       estimator=KNeighborsClassifier(algorithm='auto', leaf_size=30, metric='minkowski',\n",
       "           metric_params=None, n_jobs=1, n_neighbors=5, p=2,\n",
       "           weights='uniform'),\n",
       "       fit_params={}, iid=True, n_jobs=-1,\n",
       "       param_grid={'n_neighbors': [4, 5, 6, 7, 8, 9, 10, 11, 12, 13, 14, 15, 16, 17, 18, 19, 20, 21, 22, 23, 24, 25, 26, 27, 28, 29, 30, 31, 32, 33, 34, 35, 36, 37, 38, 39, 40, 41, 42, 43, 44, 45, 46, 47, 48, 49, 50, 51, 52, 53, 54, 55, 56, 57, 58, 59, 60, 61, 62, 63, 64, 65, 66, 67, 68, 69, 70, 71, 72, 73, 74, 75, 76, 77, 78, 79, 80, 81, 82, 83, 84, 85, 86, 87, 88, 89]},\n",
       "       pre_dispatch='2*n_jobs', refit=True, return_train_score=True,\n",
       "       scoring='roc_auc', verbose=True)"
      ]
     },
     "execution_count": 14,
     "metadata": {},
     "output_type": "execute_result"
    }
   ],
   "source": [
    "grid.fit(Xs,y)"
   ]
  },
  {
   "cell_type": "code",
   "execution_count": 16,
   "metadata": {},
   "outputs": [
    {
     "name": "stdout",
     "output_type": "stream",
     "text": [
      "ROC train:0.895 | ROC test:0.885 \n",
      "ACC train:0.868 | ACC test:0.873 \n"
     ]
    }
   ],
   "source": [
    "model = grid.best_estimator_\n",
    "model.fit(Xt,yt)\n",
    "\n",
    "metricas(model,Xt,Xv,yt,yv)"
   ]
  },
  {
   "cell_type": "code",
   "execution_count": null,
   "metadata": {},
   "outputs": [],
   "source": []
  }
 ],
 "metadata": {
  "kernelspec": {
   "display_name": "Python 2",
   "language": "python",
   "name": "python2"
  },
  "language_info": {
   "codemirror_mode": {
    "name": "ipython",
    "version": 2
   },
   "file_extension": ".py",
   "mimetype": "text/x-python",
   "name": "python",
   "nbconvert_exporter": "python",
   "pygments_lexer": "ipython2",
   "version": "2.7.14"
  }
 },
 "nbformat": 4,
 "nbformat_minor": 2
}
